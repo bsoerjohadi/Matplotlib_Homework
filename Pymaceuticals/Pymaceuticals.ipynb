{
 "cells": [
  {
   "cell_type": "code",
   "execution_count": 88,
   "metadata": {},
   "outputs": [],
   "source": [
    "# Dependencies and Setup\n",
    "import matplotlib.pyplot as plt\n",
    "import pandas as pd\n",
    "import scipy.stats as st\n",
    "import numpy as np\n",
    "from scipy.stats import linregress"
   ]
  },
  {
   "cell_type": "code",
   "execution_count": 2,
   "metadata": {},
   "outputs": [
    {
     "data": {
      "text/html": [
       "<div>\n",
       "<style scoped>\n",
       "    .dataframe tbody tr th:only-of-type {\n",
       "        vertical-align: middle;\n",
       "    }\n",
       "\n",
       "    .dataframe tbody tr th {\n",
       "        vertical-align: top;\n",
       "    }\n",
       "\n",
       "    .dataframe thead th {\n",
       "        text-align: right;\n",
       "    }\n",
       "</style>\n",
       "<table border=\"1\" class=\"dataframe\">\n",
       "  <thead>\n",
       "    <tr style=\"text-align: right;\">\n",
       "      <th></th>\n",
       "      <th>Mouse ID</th>\n",
       "      <th>Drug Regimen</th>\n",
       "      <th>Sex</th>\n",
       "      <th>Age_months</th>\n",
       "      <th>Weight (g)</th>\n",
       "      <th>Timepoint</th>\n",
       "      <th>Tumor Volume (mm3)</th>\n",
       "      <th>Metastatic Sites</th>\n",
       "    </tr>\n",
       "  </thead>\n",
       "  <tbody>\n",
       "    <tr>\n",
       "      <th>0</th>\n",
       "      <td>k403</td>\n",
       "      <td>Ramicane</td>\n",
       "      <td>Male</td>\n",
       "      <td>21</td>\n",
       "      <td>16</td>\n",
       "      <td>0</td>\n",
       "      <td>45.000000</td>\n",
       "      <td>0</td>\n",
       "    </tr>\n",
       "    <tr>\n",
       "      <th>1</th>\n",
       "      <td>k403</td>\n",
       "      <td>Ramicane</td>\n",
       "      <td>Male</td>\n",
       "      <td>21</td>\n",
       "      <td>16</td>\n",
       "      <td>5</td>\n",
       "      <td>38.825898</td>\n",
       "      <td>0</td>\n",
       "    </tr>\n",
       "    <tr>\n",
       "      <th>2</th>\n",
       "      <td>k403</td>\n",
       "      <td>Ramicane</td>\n",
       "      <td>Male</td>\n",
       "      <td>21</td>\n",
       "      <td>16</td>\n",
       "      <td>10</td>\n",
       "      <td>35.014271</td>\n",
       "      <td>1</td>\n",
       "    </tr>\n",
       "    <tr>\n",
       "      <th>3</th>\n",
       "      <td>k403</td>\n",
       "      <td>Ramicane</td>\n",
       "      <td>Male</td>\n",
       "      <td>21</td>\n",
       "      <td>16</td>\n",
       "      <td>15</td>\n",
       "      <td>34.223992</td>\n",
       "      <td>1</td>\n",
       "    </tr>\n",
       "    <tr>\n",
       "      <th>4</th>\n",
       "      <td>k403</td>\n",
       "      <td>Ramicane</td>\n",
       "      <td>Male</td>\n",
       "      <td>21</td>\n",
       "      <td>16</td>\n",
       "      <td>20</td>\n",
       "      <td>32.997729</td>\n",
       "      <td>1</td>\n",
       "    </tr>\n",
       "    <tr>\n",
       "      <th>...</th>\n",
       "      <td>...</td>\n",
       "      <td>...</td>\n",
       "      <td>...</td>\n",
       "      <td>...</td>\n",
       "      <td>...</td>\n",
       "      <td>...</td>\n",
       "      <td>...</td>\n",
       "      <td>...</td>\n",
       "    </tr>\n",
       "    <tr>\n",
       "      <th>1888</th>\n",
       "      <td>z969</td>\n",
       "      <td>Naftisol</td>\n",
       "      <td>Male</td>\n",
       "      <td>9</td>\n",
       "      <td>30</td>\n",
       "      <td>25</td>\n",
       "      <td>63.145652</td>\n",
       "      <td>2</td>\n",
       "    </tr>\n",
       "    <tr>\n",
       "      <th>1889</th>\n",
       "      <td>z969</td>\n",
       "      <td>Naftisol</td>\n",
       "      <td>Male</td>\n",
       "      <td>9</td>\n",
       "      <td>30</td>\n",
       "      <td>30</td>\n",
       "      <td>65.841013</td>\n",
       "      <td>3</td>\n",
       "    </tr>\n",
       "    <tr>\n",
       "      <th>1890</th>\n",
       "      <td>z969</td>\n",
       "      <td>Naftisol</td>\n",
       "      <td>Male</td>\n",
       "      <td>9</td>\n",
       "      <td>30</td>\n",
       "      <td>35</td>\n",
       "      <td>69.176246</td>\n",
       "      <td>4</td>\n",
       "    </tr>\n",
       "    <tr>\n",
       "      <th>1891</th>\n",
       "      <td>z969</td>\n",
       "      <td>Naftisol</td>\n",
       "      <td>Male</td>\n",
       "      <td>9</td>\n",
       "      <td>30</td>\n",
       "      <td>40</td>\n",
       "      <td>70.314904</td>\n",
       "      <td>4</td>\n",
       "    </tr>\n",
       "    <tr>\n",
       "      <th>1892</th>\n",
       "      <td>z969</td>\n",
       "      <td>Naftisol</td>\n",
       "      <td>Male</td>\n",
       "      <td>9</td>\n",
       "      <td>30</td>\n",
       "      <td>45</td>\n",
       "      <td>73.867845</td>\n",
       "      <td>4</td>\n",
       "    </tr>\n",
       "  </tbody>\n",
       "</table>\n",
       "<p>1893 rows × 8 columns</p>\n",
       "</div>"
      ],
      "text/plain": [
       "     Mouse ID Drug Regimen   Sex  Age_months  Weight (g)  Timepoint  \\\n",
       "0        k403     Ramicane  Male          21          16          0   \n",
       "1        k403     Ramicane  Male          21          16          5   \n",
       "2        k403     Ramicane  Male          21          16         10   \n",
       "3        k403     Ramicane  Male          21          16         15   \n",
       "4        k403     Ramicane  Male          21          16         20   \n",
       "...       ...          ...   ...         ...         ...        ...   \n",
       "1888     z969     Naftisol  Male           9          30         25   \n",
       "1889     z969     Naftisol  Male           9          30         30   \n",
       "1890     z969     Naftisol  Male           9          30         35   \n",
       "1891     z969     Naftisol  Male           9          30         40   \n",
       "1892     z969     Naftisol  Male           9          30         45   \n",
       "\n",
       "      Tumor Volume (mm3)  Metastatic Sites  \n",
       "0              45.000000                 0  \n",
       "1              38.825898                 0  \n",
       "2              35.014271                 1  \n",
       "3              34.223992                 1  \n",
       "4              32.997729                 1  \n",
       "...                  ...               ...  \n",
       "1888           63.145652                 2  \n",
       "1889           65.841013                 3  \n",
       "1890           69.176246                 4  \n",
       "1891           70.314904                 4  \n",
       "1892           73.867845                 4  \n",
       "\n",
       "[1893 rows x 8 columns]"
      ]
     },
     "execution_count": 2,
     "metadata": {},
     "output_type": "execute_result"
    }
   ],
   "source": [
    "# Open and read file\n",
    "mouse_metadata = pd.read_csv(\"data/Mouse_metadata.csv\")\n",
    "study_results = pd.read_csv(\"data/Study_results.csv\")\n",
    "\n",
    "# Combine the data into a single dataset\n",
    "merged_df = pd.merge(mouse_metadata, study_results, on= \"Mouse ID\")\n",
    "\n",
    "# Display the data table for preview\n",
    "merged_df"
   ]
  },
  {
   "cell_type": "code",
   "execution_count": 3,
   "metadata": {},
   "outputs": [
    {
     "name": "stdout",
     "output_type": "stream",
     "text": [
      "249\n",
      "--------------------\n",
      "g989    13\n",
      "q597    10\n",
      "w575    10\n",
      "c282    10\n",
      "k894    10\n",
      "        ..\n",
      "x226     1\n",
      "f932     1\n",
      "l872     1\n",
      "b447     1\n",
      "x336     1\n",
      "Name: Mouse ID, Length: 249, dtype: int64\n"
     ]
    }
   ],
   "source": [
    "# Checking the number of mice\n",
    "print(merged_df[\"Mouse ID\"].nunique())\n",
    "print(\"-\" * 20)\n",
    "print(merged_df[\"Mouse ID\"].value_counts())"
   ]
  },
  {
   "cell_type": "code",
   "execution_count": 4,
   "metadata": {},
   "outputs": [
    {
     "data": {
      "text/plain": [
       "909    g989\n",
       "911    g989\n",
       "913    g989\n",
       "915    g989\n",
       "917    g989\n",
       "Name: Mouse ID, dtype: object"
      ]
     },
     "execution_count": 4,
     "metadata": {},
     "output_type": "execute_result"
    }
   ],
   "source": [
    "# Getting the duplicate mice by ID number that shows up for Mouse ID and Timepoint\n",
    "duplicate_mice = merged_df.loc[merged_df.duplicated(subset=[\"Mouse ID\", \"Timepoint\"]), \"Mouse ID\"]\n",
    "duplicate_mice"
   ]
  },
  {
   "cell_type": "code",
   "execution_count": 5,
   "metadata": {},
   "outputs": [
    {
     "data": {
      "text/html": [
       "<div>\n",
       "<style scoped>\n",
       "    .dataframe tbody tr th:only-of-type {\n",
       "        vertical-align: middle;\n",
       "    }\n",
       "\n",
       "    .dataframe tbody tr th {\n",
       "        vertical-align: top;\n",
       "    }\n",
       "\n",
       "    .dataframe thead th {\n",
       "        text-align: right;\n",
       "    }\n",
       "</style>\n",
       "<table border=\"1\" class=\"dataframe\">\n",
       "  <thead>\n",
       "    <tr style=\"text-align: right;\">\n",
       "      <th></th>\n",
       "      <th>Mouse ID</th>\n",
       "      <th>Drug Regimen</th>\n",
       "      <th>Sex</th>\n",
       "      <th>Age_months</th>\n",
       "      <th>Weight (g)</th>\n",
       "      <th>Timepoint</th>\n",
       "      <th>Tumor Volume (mm3)</th>\n",
       "      <th>Metastatic Sites</th>\n",
       "    </tr>\n",
       "  </thead>\n",
       "  <tbody>\n",
       "    <tr>\n",
       "      <th>0</th>\n",
       "      <td>k403</td>\n",
       "      <td>Ramicane</td>\n",
       "      <td>Male</td>\n",
       "      <td>21</td>\n",
       "      <td>16</td>\n",
       "      <td>0</td>\n",
       "      <td>45.000000</td>\n",
       "      <td>0</td>\n",
       "    </tr>\n",
       "    <tr>\n",
       "      <th>1</th>\n",
       "      <td>k403</td>\n",
       "      <td>Ramicane</td>\n",
       "      <td>Male</td>\n",
       "      <td>21</td>\n",
       "      <td>16</td>\n",
       "      <td>5</td>\n",
       "      <td>38.825898</td>\n",
       "      <td>0</td>\n",
       "    </tr>\n",
       "    <tr>\n",
       "      <th>2</th>\n",
       "      <td>k403</td>\n",
       "      <td>Ramicane</td>\n",
       "      <td>Male</td>\n",
       "      <td>21</td>\n",
       "      <td>16</td>\n",
       "      <td>10</td>\n",
       "      <td>35.014271</td>\n",
       "      <td>1</td>\n",
       "    </tr>\n",
       "    <tr>\n",
       "      <th>3</th>\n",
       "      <td>k403</td>\n",
       "      <td>Ramicane</td>\n",
       "      <td>Male</td>\n",
       "      <td>21</td>\n",
       "      <td>16</td>\n",
       "      <td>15</td>\n",
       "      <td>34.223992</td>\n",
       "      <td>1</td>\n",
       "    </tr>\n",
       "    <tr>\n",
       "      <th>4</th>\n",
       "      <td>k403</td>\n",
       "      <td>Ramicane</td>\n",
       "      <td>Male</td>\n",
       "      <td>21</td>\n",
       "      <td>16</td>\n",
       "      <td>20</td>\n",
       "      <td>32.997729</td>\n",
       "      <td>1</td>\n",
       "    </tr>\n",
       "    <tr>\n",
       "      <th>...</th>\n",
       "      <td>...</td>\n",
       "      <td>...</td>\n",
       "      <td>...</td>\n",
       "      <td>...</td>\n",
       "      <td>...</td>\n",
       "      <td>...</td>\n",
       "      <td>...</td>\n",
       "      <td>...</td>\n",
       "    </tr>\n",
       "    <tr>\n",
       "      <th>1888</th>\n",
       "      <td>z969</td>\n",
       "      <td>Naftisol</td>\n",
       "      <td>Male</td>\n",
       "      <td>9</td>\n",
       "      <td>30</td>\n",
       "      <td>25</td>\n",
       "      <td>63.145652</td>\n",
       "      <td>2</td>\n",
       "    </tr>\n",
       "    <tr>\n",
       "      <th>1889</th>\n",
       "      <td>z969</td>\n",
       "      <td>Naftisol</td>\n",
       "      <td>Male</td>\n",
       "      <td>9</td>\n",
       "      <td>30</td>\n",
       "      <td>30</td>\n",
       "      <td>65.841013</td>\n",
       "      <td>3</td>\n",
       "    </tr>\n",
       "    <tr>\n",
       "      <th>1890</th>\n",
       "      <td>z969</td>\n",
       "      <td>Naftisol</td>\n",
       "      <td>Male</td>\n",
       "      <td>9</td>\n",
       "      <td>30</td>\n",
       "      <td>35</td>\n",
       "      <td>69.176246</td>\n",
       "      <td>4</td>\n",
       "    </tr>\n",
       "    <tr>\n",
       "      <th>1891</th>\n",
       "      <td>z969</td>\n",
       "      <td>Naftisol</td>\n",
       "      <td>Male</td>\n",
       "      <td>9</td>\n",
       "      <td>30</td>\n",
       "      <td>40</td>\n",
       "      <td>70.314904</td>\n",
       "      <td>4</td>\n",
       "    </tr>\n",
       "    <tr>\n",
       "      <th>1892</th>\n",
       "      <td>z969</td>\n",
       "      <td>Naftisol</td>\n",
       "      <td>Male</td>\n",
       "      <td>9</td>\n",
       "      <td>30</td>\n",
       "      <td>45</td>\n",
       "      <td>73.867845</td>\n",
       "      <td>4</td>\n",
       "    </tr>\n",
       "  </tbody>\n",
       "</table>\n",
       "<p>1880 rows × 8 columns</p>\n",
       "</div>"
      ],
      "text/plain": [
       "     Mouse ID Drug Regimen   Sex  Age_months  Weight (g)  Timepoint  \\\n",
       "0        k403     Ramicane  Male          21          16          0   \n",
       "1        k403     Ramicane  Male          21          16          5   \n",
       "2        k403     Ramicane  Male          21          16         10   \n",
       "3        k403     Ramicane  Male          21          16         15   \n",
       "4        k403     Ramicane  Male          21          16         20   \n",
       "...       ...          ...   ...         ...         ...        ...   \n",
       "1888     z969     Naftisol  Male           9          30         25   \n",
       "1889     z969     Naftisol  Male           9          30         30   \n",
       "1890     z969     Naftisol  Male           9          30         35   \n",
       "1891     z969     Naftisol  Male           9          30         40   \n",
       "1892     z969     Naftisol  Male           9          30         45   \n",
       "\n",
       "      Tumor Volume (mm3)  Metastatic Sites  \n",
       "0              45.000000                 0  \n",
       "1              38.825898                 0  \n",
       "2              35.014271                 1  \n",
       "3              34.223992                 1  \n",
       "4              32.997729                 1  \n",
       "...                  ...               ...  \n",
       "1888           63.145652                 2  \n",
       "1889           65.841013                 3  \n",
       "1890           69.176246                 4  \n",
       "1891           70.314904                 4  \n",
       "1892           73.867845                 4  \n",
       "\n",
       "[1880 rows x 8 columns]"
      ]
     },
     "execution_count": 5,
     "metadata": {},
     "output_type": "execute_result"
    }
   ],
   "source": [
    "# Create a clean DataFrame by dropping the duplicate mouse by its ID\n",
    "clean_df = merged_df[merged_df[\"Mouse ID\"].isin(duplicate_mice)==False]\n",
    "clean_df"
   ]
  },
  {
   "cell_type": "code",
   "execution_count": 6,
   "metadata": {},
   "outputs": [
    {
     "data": {
      "text/plain": [
       "248"
      ]
     },
     "execution_count": 6,
     "metadata": {},
     "output_type": "execute_result"
    }
   ],
   "source": [
    "# Checking the number of mice in the clean DataFrame\n",
    "clean_df[\"Mouse ID\"].nunique()"
   ]
  },
  {
   "cell_type": "code",
   "execution_count": 7,
   "metadata": {},
   "outputs": [
    {
     "data": {
      "text/plain": [
       "45.000000    248\n",
       "62.765093      1\n",
       "42.368692      1\n",
       "39.847576      1\n",
       "50.907890      1\n",
       "            ... \n",
       "47.038415      1\n",
       "57.620682      1\n",
       "47.471723      1\n",
       "53.676840      1\n",
       "41.019913      1\n",
       "Name: Tumor Volume (mm3), Length: 1633, dtype: int64"
      ]
     },
     "execution_count": 7,
     "metadata": {},
     "output_type": "execute_result"
    }
   ],
   "source": [
    "# Generate a summary statistics table of mean, median, variance, standard deviation, and SEM of the tumor volume for each regimen\n",
    "# Creating multiple series and putting them all together at the end\n",
    "mean_reg = clean_df[\"Tumor Volume (mm3)\"].value_counts()\n",
    "mean_reg"
   ]
  },
  {
   "cell_type": "code",
   "execution_count": 8,
   "metadata": {},
   "outputs": [
    {
     "data": {
      "text/html": [
       "<div>\n",
       "<style scoped>\n",
       "    .dataframe tbody tr th:only-of-type {\n",
       "        vertical-align: middle;\n",
       "    }\n",
       "\n",
       "    .dataframe tbody tr th {\n",
       "        vertical-align: top;\n",
       "    }\n",
       "\n",
       "    .dataframe thead th {\n",
       "        text-align: right;\n",
       "    }\n",
       "</style>\n",
       "<table border=\"1\" class=\"dataframe\">\n",
       "  <thead>\n",
       "    <tr style=\"text-align: right;\">\n",
       "      <th></th>\n",
       "      <th>Mean</th>\n",
       "      <th>Median</th>\n",
       "      <th>Variance</th>\n",
       "      <th>Standard Deviation</th>\n",
       "      <th>SEM</th>\n",
       "    </tr>\n",
       "    <tr>\n",
       "      <th>Drug Regimen</th>\n",
       "      <th></th>\n",
       "      <th></th>\n",
       "      <th></th>\n",
       "      <th></th>\n",
       "      <th></th>\n",
       "    </tr>\n",
       "  </thead>\n",
       "  <tbody>\n",
       "    <tr>\n",
       "      <th>Capomulin</th>\n",
       "      <td>40.675741</td>\n",
       "      <td>41.557809</td>\n",
       "      <td>24.947764</td>\n",
       "      <td>4.994774</td>\n",
       "      <td>0.329346</td>\n",
       "    </tr>\n",
       "    <tr>\n",
       "      <th>Ceftamin</th>\n",
       "      <td>52.591172</td>\n",
       "      <td>51.776157</td>\n",
       "      <td>39.290177</td>\n",
       "      <td>6.268188</td>\n",
       "      <td>0.469821</td>\n",
       "    </tr>\n",
       "    <tr>\n",
       "      <th>Infubinol</th>\n",
       "      <td>52.884795</td>\n",
       "      <td>51.820584</td>\n",
       "      <td>43.128684</td>\n",
       "      <td>6.567243</td>\n",
       "      <td>0.492236</td>\n",
       "    </tr>\n",
       "    <tr>\n",
       "      <th>Ketapril</th>\n",
       "      <td>55.235638</td>\n",
       "      <td>53.698743</td>\n",
       "      <td>68.553577</td>\n",
       "      <td>8.279709</td>\n",
       "      <td>0.603860</td>\n",
       "    </tr>\n",
       "    <tr>\n",
       "      <th>Naftisol</th>\n",
       "      <td>54.331565</td>\n",
       "      <td>52.509285</td>\n",
       "      <td>66.173479</td>\n",
       "      <td>8.134708</td>\n",
       "      <td>0.596466</td>\n",
       "    </tr>\n",
       "    <tr>\n",
       "      <th>Placebo</th>\n",
       "      <td>54.033581</td>\n",
       "      <td>52.288934</td>\n",
       "      <td>61.168083</td>\n",
       "      <td>7.821003</td>\n",
       "      <td>0.581331</td>\n",
       "    </tr>\n",
       "    <tr>\n",
       "      <th>Propriva</th>\n",
       "      <td>52.320930</td>\n",
       "      <td>50.446266</td>\n",
       "      <td>43.852013</td>\n",
       "      <td>6.622085</td>\n",
       "      <td>0.544332</td>\n",
       "    </tr>\n",
       "    <tr>\n",
       "      <th>Ramicane</th>\n",
       "      <td>40.216745</td>\n",
       "      <td>40.673236</td>\n",
       "      <td>23.486704</td>\n",
       "      <td>4.846308</td>\n",
       "      <td>0.320955</td>\n",
       "    </tr>\n",
       "    <tr>\n",
       "      <th>Stelasyn</th>\n",
       "      <td>54.233149</td>\n",
       "      <td>52.431737</td>\n",
       "      <td>59.450562</td>\n",
       "      <td>7.710419</td>\n",
       "      <td>0.573111</td>\n",
       "    </tr>\n",
       "    <tr>\n",
       "      <th>Zoniferol</th>\n",
       "      <td>53.236507</td>\n",
       "      <td>51.818479</td>\n",
       "      <td>48.533355</td>\n",
       "      <td>6.966589</td>\n",
       "      <td>0.516398</td>\n",
       "    </tr>\n",
       "  </tbody>\n",
       "</table>\n",
       "</div>"
      ],
      "text/plain": [
       "                   Mean     Median   Variance  Standard Deviation       SEM\n",
       "Drug Regimen                                                               \n",
       "Capomulin     40.675741  41.557809  24.947764            4.994774  0.329346\n",
       "Ceftamin      52.591172  51.776157  39.290177            6.268188  0.469821\n",
       "Infubinol     52.884795  51.820584  43.128684            6.567243  0.492236\n",
       "Ketapril      55.235638  53.698743  68.553577            8.279709  0.603860\n",
       "Naftisol      54.331565  52.509285  66.173479            8.134708  0.596466\n",
       "Placebo       54.033581  52.288934  61.168083            7.821003  0.581331\n",
       "Propriva      52.320930  50.446266  43.852013            6.622085  0.544332\n",
       "Ramicane      40.216745  40.673236  23.486704            4.846308  0.320955\n",
       "Stelasyn      54.233149  52.431737  59.450562            7.710419  0.573111\n",
       "Zoniferol     53.236507  51.818479  48.533355            6.966589  0.516398"
      ]
     },
     "execution_count": 8,
     "metadata": {},
     "output_type": "execute_result"
    }
   ],
   "source": [
    "# Generate a summary statistics table of mean, median, variance, standard deviation, and SEM of the tumor volume for each regimen\n",
    "# Group by Regimen\n",
    "regimen = clean_df.groupby([\"Drug Regimen\"])\n",
    "mean_regimen = regimen[\"Tumor Volume (mm3)\"].mean()\n",
    "median_regimen = regimen[\"Tumor Volume (mm3)\"].median()\n",
    "var_regimen = regimen[\"Tumor Volume (mm3)\"].var()\n",
    "std_regimen = regimen[\"Tumor Volume (mm3)\"].std()\n",
    "sem_regimen = regimen[\"Tumor Volume (mm3)\"].sem()\n",
    "\n",
    "regimen_df = pd.DataFrame({\"Mean\": mean_regimen, \"Median\": median_regimen, \"Variance\": var_regimen,\n",
    "                          \"Standard Deviation\": std_regimen, \"SEM\": sem_regimen})\n",
    "regimen_df"
   ]
  },
  {
   "cell_type": "code",
   "execution_count": 9,
   "metadata": {},
   "outputs": [
    {
     "data": {
      "image/png": "[encoded data removed]",
      "text/plain": [
       "<Figure size 1080x216 with 1 Axes>"
      ]
     },
     "metadata": {
      "needs_background": "light"
     },
     "output_type": "display_data"
    }
   ],
   "source": [
    "# Generate a bar plot showing the total number of mice for each treatment throughout the course of the study using pandas\n",
    "treatment_pandas = regimen[\"Mouse ID\"].count()\n",
    "\n",
    "bar_pandas = treatment_pandas.plot(kind=\"bar\", figsize=(15,3), rot=0)\n",
    "bar_pandas.set_ylabel(\"Number of Mice\")\n",
    "bar_pandas.set_title(\"Total Number of Mice for Each Treatment\")\n",
    "plt.savefig(\"../Images/Mice_Number_perTreatment_Pandas\")"
   ]
  },
  {
   "cell_type": "code",
   "execution_count": 10,
   "metadata": {},
   "outputs": [
    {
     "data": {
      "image/png": "[encoded data removed]",
      "text/plain": [
       "<Figure size 1080x216 with 1 Axes>"
      ]
     },
     "metadata": {
      "needs_background": "light"
     },
     "output_type": "display_data"
    }
   ],
   "source": [
    "# Generate a bar plot showing the total number of mice for each treatment throughout the course of the study using pyplot\n",
    "x_axis = np.arange(len(regimen))\n",
    "#tick_locations = [value for value in x_axis]\n",
    "\n",
    "plt.figure(figsize=(15,3))\n",
    "plt.bar(x_axis, treatment_pandas, width=0.55, tick_label= treatment_pandas.index)\n",
    "#plt.xticks(tick_locations, list(treatment_pandas), rotation=\"horizontal\")\n",
    "plt.xlabel(\"Drug Regimen\")\n",
    "plt.ylabel(\"Number of Mice\")\n",
    "plt.title(\"Total Number of Mice for Each Treatment\")\n",
    "plt.savefig(\"../Images/Mice_Number_perTreatment_Pyplot\")"
   ]
  },
  {
   "cell_type": "code",
   "execution_count": 11,
   "metadata": {},
   "outputs": [
    {
     "data": {
      "image/png": "[encoded data removed]",
      "text/plain": [
       "<Figure size 432x288 with 1 Axes>"
      ]
     },
     "metadata": {},
     "output_type": "display_data"
    }
   ],
   "source": [
    "# Generate a pie plot showing the distribution of female versus male mice using pandas\n",
    "gender = clean_df[\"Sex\"].value_counts()\n",
    "explode = (0.05, 0)\n",
    "pie_pandas = gender.plot(kind= \"pie\", title= \"Distribution of Female vs. Male\", \n",
    "                         autopct=\"%1.1f%%\", explode= explode, startangle= 45, shadow=True)\n",
    "plt.savefig(\"../Images/GenderDistribution_Pandas\")"
   ]
  },
  {
   "cell_type": "code",
   "execution_count": 12,
   "metadata": {},
   "outputs": [
    {
     "data": {
      "image/png": "[encoded data removed]",
      "text/plain": [
       "<Figure size 432x288 with 1 Axes>"
      ]
     },
     "metadata": {},
     "output_type": "display_data"
    }
   ],
   "source": [
    "# Generate a pie plot showing the distribution of female versus male mice using pyplot\n",
    "label = gender.index\n",
    "plt.pie(gender, explode= explode, startangle= 45, shadow=True, autopct=\"%1.1f%%\", labels= label)\n",
    "plt.title(\"Distribution of Female vs. Male\")\n",
    "plt.ylabel(\"Sex\")\n",
    "plt.savefig(\"../Images/GenderDistribution_Pyplot\")"
   ]
  },
  {
   "cell_type": "code",
   "execution_count": 108,
   "metadata": {},
   "outputs": [
    {
     "name": "stdout",
     "output_type": "stream",
     "text": [
      "   Mouse ID Drug Regimen  Tumor Volume (mm3)\n",
      "19     b128    Capomulin           38.982878\n",
      "24     b742    Capomulin           38.939633\n",
      "61     f966    Capomulin           30.485985\n",
      "64     g288    Capomulin           37.074024\n",
      "66     g316    Capomulin           40.159220\n",
      "--------------------------------------------------\n",
      "   Mouse ID Drug Regimen  Tumor Volume (mm3)\n",
      "6      a411     Ramicane           38.407618\n",
      "7      a444     Ramicane           43.047543\n",
      "10     a520     Ramicane           38.810366\n",
      "12     a644     Ramicane           32.978522\n",
      "33     c458     Ramicane           38.342008\n",
      "--------------------------------------------------\n",
      "   Mouse ID Drug Regimen  Tumor Volume (mm3)\n",
      "0      a203    Infubinol           67.973419\n",
      "1      a251    Infubinol           65.525743\n",
      "11     a577    Infubinol           57.031862\n",
      "13     a685    Infubinol           66.083066\n",
      "27     c139    Infubinol           72.226731\n",
      "--------------------------------------------------\n",
      "   Mouse ID Drug Regimen  Tumor Volume (mm3)\n",
      "3      a275     Ceftamin           62.999356\n",
      "21     b447     Ceftamin           45.000000\n",
      "22     b487     Ceftamin           56.057749\n",
      "25     b759     Ceftamin           55.742829\n",
      "58     f436     Ceftamin           48.722078\n",
      "--------------------------------------------------\n"
     ]
    }
   ],
   "source": [
    "# Calculate the final tumor volume of each mouse across four of the treatment regimens:  \n",
    "# Capomulin, Ramicane, Infubinol, and Ceftamin\n",
    "\n",
    "# Start by getting the last (greatest) timepoint for each mouse\n",
    "last_timepoint = clean_df.groupby(clean_df[\"Mouse ID\"])[\"Timepoint\"].max()\n",
    "lt_df = pd.DataFrame(last_timepoint)\n",
    "lt_df\n",
    "\n",
    "# Merge this group df with the original dataframe to get the tumor volume at the last timepoint\n",
    "new_df = pd.merge(lt_df, clean_df, on= (\"Mouse ID\",\"Timepoint\"))\n",
    "capomulin = new_df.loc[new_df[\"Drug Regimen\"] == \"Capomulin\", :]\n",
    "ramicane = new_df.loc[new_df[\"Drug Regimen\"] == \"Ramicane\", :]\n",
    "infubinol = new_df.loc[new_df[\"Drug Regimen\"] == \"Infubinol\", :]\n",
    "ceftamin = new_df.loc[new_df[\"Drug Regimen\"] == \"Ceftamin\", :]\n",
    "\n",
    "print(capomulin[[\"Mouse ID\",\"Drug Regimen\", \"Tumor Volume (mm3)\"]].head())\n",
    "print(\"-\" * 50)\n",
    "print(ramicane[[\"Mouse ID\",\"Drug Regimen\", \"Tumor Volume (mm3)\"]].head())\n",
    "print(\"-\" * 50)\n",
    "print(infubinol[[\"Mouse ID\",\"Drug Regimen\", \"Tumor Volume (mm3)\"]].head())\n",
    "print(\"-\" * 50)\n",
    "print(ceftamin[[\"Mouse ID\",\"Drug Regimen\", \"Tumor Volume (mm3)\"]].head())\n",
    "print(\"-\" * 50)"
   ]
  },
  {
   "cell_type": "code",
   "execution_count": 111,
   "metadata": {},
   "outputs": [
    {
     "name": "stdout",
     "output_type": "stream",
     "text": [
      "   Mouse ID Drug Regimen  Tumor Volume (mm3)\n",
      "0      s185    Capomulin           23.343598\n",
      "1      x401    Capomulin           28.484033\n",
      "2      m601    Capomulin           28.430964\n",
      "3      f966    Capomulin           30.485985\n",
      "4      u364    Capomulin           31.023923\n",
      "5      y793    Capomulin           31.896238\n",
      "6      r554    Capomulin           32.377357\n",
      "7      m957    Capomulin           33.329098\n",
      "8      t565    Capomulin           34.455298\n",
      "9      i738    Capomulin           37.311846\n",
      "10     w914    Capomulin           36.041047\n",
      "11     g288    Capomulin           37.074024\n",
      "12     l897    Capomulin           38.846876\n",
      "13     b742    Capomulin           38.939633\n",
      "14     b128    Capomulin           38.982878\n",
      "15     j246    Capomulin           38.753265\n",
      "16     j119    Capomulin           38.125164\n",
      "17     w150    Capomulin           39.952347\n",
      "18     v923    Capomulin           40.658124\n",
      "19     g316    Capomulin           40.159220\n",
      "20     s710    Capomulin           40.728578\n",
      "21     l509    Capomulin           41.483008\n",
      "22     r944    Capomulin           41.581521\n",
      "23     i557    Capomulin           47.685963\n",
      "24     r157    Capomulin           46.539206\n",
      "   Mouse ID Drug Regimen  Tumor Volume (mm3)\n",
      "0      k403     Ramicane           22.050126\n",
      "1      g791     Ramicane           29.128472\n",
      "2      s508     Ramicane           30.276232\n",
      "3      m546     Ramicane           30.564625\n",
      "4      z578     Ramicane           30.638696\n",
      "5      j913     Ramicane           31.560470\n",
      "6      n364     Ramicane           31.095335\n",
      "7      c758     Ramicane           33.397653\n",
      "8      a644     Ramicane           32.978522\n",
      "9      i177     Ramicane           33.562402\n",
      "10     j989     Ramicane           36.134852\n",
      "11     a520     Ramicane           38.810366\n",
      "12     r811     Ramicane           37.225650\n",
      "13     i334     Ramicane           36.374510\n",
      "14     q610     Ramicane           36.561652\n",
      "15     d251     Ramicane           37.311236\n",
      "16     c458     Ramicane           38.342008\n",
      "17     a411     Ramicane           38.407618\n",
      "18     e662     Ramicane           40.659006\n",
      "19     u196     Ramicane           40.667713\n",
      "20     q597     Ramicane           45.220869\n",
      "21     a444     Ramicane           43.047543\n",
      "22     r921     Ramicane           43.419381\n",
      "23     w678     Ramicane           43.166373\n",
      "24     y449     Ramicane           44.183451\n",
      "   Mouse ID Drug Regimen  Tumor Volume (mm3)\n",
      "0      a203    Infubinol           67.973419\n",
      "1      a251    Infubinol           65.525743\n",
      "2      a577    Infubinol           57.031862\n",
      "3      a685    Infubinol           66.083066\n",
      "4      c139    Infubinol           72.226731\n",
      "5      c326    Infubinol           36.321346\n",
      "6      c895    Infubinol           60.969711\n",
      "7      e476    Infubinol           62.435404\n",
      "8      f345    Infubinol           60.918767\n",
      "9      i386    Infubinol           67.289621\n",
      "10     k483    Infubinol           66.196912\n",
      "11     k804    Infubinol           62.117279\n",
      "12     m756    Infubinol           47.010364\n",
      "13     n671    Infubinol           60.165180\n",
      "14     o809    Infubinol           55.629428\n",
      "15     o813    Infubinol           45.699331\n",
      "16     q132    Infubinol           54.656549\n",
      "17     s121    Infubinol           55.650681\n",
      "18     v339    Infubinol           46.250112\n",
      "19     v719    Infubinol           54.048608\n",
      "20     v766    Infubinol           51.542431\n",
      "21     w193    Infubinol           50.005138\n",
      "22     w584    Infubinol           58.268442\n",
      "23     y163    Infubinol           67.685569\n",
      "24     z581    Infubinol           62.754451\n",
      "   Mouse ID Drug Regimen  Tumor Volume (mm3)\n",
      "0      a275     Ceftamin           62.999356\n",
      "1      b447     Ceftamin           45.000000\n",
      "2      b487     Ceftamin           56.057749\n",
      "3      b759     Ceftamin           55.742829\n",
      "4      f436     Ceftamin           48.722078\n",
      "5      h531     Ceftamin           47.784682\n",
      "6      j296     Ceftamin           61.849023\n",
      "7      k210     Ceftamin           68.923185\n",
      "8      l471     Ceftamin           67.748662\n",
      "9      l490     Ceftamin           57.918381\n",
      "10     l558     Ceftamin           46.784535\n",
      "11     l661     Ceftamin           59.851956\n",
      "12     l733     Ceftamin           64.299830\n",
      "13     o287     Ceftamin           59.741901\n",
      "14     p438     Ceftamin           61.433892\n",
      "15     q483     Ceftamin           64.192341\n",
      "16     t573     Ceftamin           45.000000\n",
      "17     u149     Ceftamin           52.925348\n",
      "18     u153     Ceftamin           45.000000\n",
      "19     w151     Ceftamin           67.527482\n",
      "20     x226     Ceftamin           45.000000\n",
      "21     x581     Ceftamin           64.634949\n",
      "22     x822     Ceftamin           61.386660\n",
      "23     y769     Ceftamin           68.594745\n",
      "24     y865     Ceftamin           64.729837\n"
     ]
    }
   ],
   "source": [
    "# Put treatments into a list for for loop (and later for plot labels)\n",
    "treatment_list = [\"Capomulin\", \"Ramicane\", \"Infubinol\", \"Ceftamin\"]\n",
    "for treatment in treatment_list:\n",
    "    treatment = clean_df.loc[clean_df[\"Drug Regimen\"] == treatment , :]\n",
    "    cap_timepoint = clean_df.groupby(\"Mouse ID\").max()[\"Timepoint\"]\n",
    "    cap_df = pd.DataFrame(cap_timepoint)\n",
    "    cap_df\n",
    "    merge_cap = pd.merge(treatment, cap_df, on=(\"Mouse ID\", \"Timepoint\"))\n",
    "    cap_tv = merge_cap[\"Tumor Volume (mm3)\"]\n",
    "    print(merge_cap[[\"Mouse ID\", \"Drug Regimen\", \"Tumor Volume (mm3)\"]])"
   ]
  },
  {
   "cell_type": "code",
   "execution_count": 112,
   "metadata": {},
   "outputs": [
    {
     "name": "stdout",
     "output_type": "stream",
     "text": [
      "Capomulin\n",
      "--------------------\n",
      "The lower quartile of temperatures is: 32.37735684\n",
      "The upper quartile of temperatures is: 40.1592203\n",
      "The interquartile range of temperatures is: 7.781863460000004\n",
      "The the median of temperatures is: 38.125164399999996 \n",
      "Values below 20.70456164999999 could be outliers.\n",
      "Values above 51.83201549 could be outliers.\n"
     ]
    }
   ],
   "source": [
    "# 1) Capomulin\n",
    "# Calculate the IQR and quantitatively determine if there are any potential outliers. \n",
    "cap_tumor = capomulin[\"Tumor Volume (mm3)\"]\n",
    "\n",
    "quartiles = cap_tumor.quantile([.25,.5,.75])\n",
    "lowerq = quartiles[0.25]\n",
    "upperq = quartiles[0.75]\n",
    "iqr = upperq-lowerq\n",
    "\n",
    "print(\"Capomulin\")\n",
    "print(\"-\" * 20)\n",
    "print(f\"The lower quartile of temperatures is: {lowerq}\")\n",
    "print(f\"The upper quartile of temperatures is: {upperq}\")\n",
    "print(f\"The interquartile range of temperatures is: {iqr}\")\n",
    "print(f\"The the median of temperatures is: {quartiles[0.5]} \")\n",
    "\n",
    "lower_bound = lowerq - (1.5*iqr)\n",
    "upper_bound = upperq + (1.5*iqr)\n",
    "print(f\"Values below {lower_bound} could be outliers.\")\n",
    "print(f\"Values above {upper_bound} could be outliers.\")"
   ]
  },
  {
   "cell_type": "code",
   "execution_count": 113,
   "metadata": {},
   "outputs": [
    {
     "name": "stdout",
     "output_type": "stream",
     "text": [
      "Ramicane\n",
      "--------------------\n",
      "The lower quartile of temperatures is: 31.56046955\n",
      "The upper quartile of temperatures is: 40.65900627\n",
      "The interquartile range of temperatures is: 9.098536719999998\n",
      "The the median of temperatures is: 36.56165229 \n",
      "Values below 17.912664470000003 could be outliers.\n",
      "Values above 54.30681135 could be outliers.\n"
     ]
    }
   ],
   "source": [
    "# 2 ) Ramicane\n",
    "# Calculate the IQR and quantitatively determine if there are any potential outliers. \n",
    "ram_tumor = ramicane[\"Tumor Volume (mm3)\"]\n",
    "\n",
    "quartiles = ram_tumor.quantile([.25,.5,.75])\n",
    "lowerq = quartiles[0.25]\n",
    "upperq = quartiles[0.75]\n",
    "iqr = upperq-lowerq\n",
    "\n",
    "print(\"Ramicane\")\n",
    "print(\"-\" * 20)\n",
    "print(f\"The lower quartile of temperatures is: {lowerq}\")\n",
    "print(f\"The upper quartile of temperatures is: {upperq}\")\n",
    "print(f\"The interquartile range of temperatures is: {iqr}\")\n",
    "print(f\"The the median of temperatures is: {quartiles[0.5]} \")\n",
    "\n",
    "lower_bound = lowerq - (1.5*iqr)\n",
    "upper_bound = upperq + (1.5*iqr)\n",
    "print(f\"Values below {lower_bound} could be outliers.\")\n",
    "print(f\"Values above {upper_bound} could be outliers.\")"
   ]
  },
  {
   "cell_type": "code",
   "execution_count": 114,
   "metadata": {},
   "outputs": [
    {
     "name": "stdout",
     "output_type": "stream",
     "text": [
      "Infubinol\n",
      "--------------------\n",
      "The lower quartile of temperatures is: 54.04860769\n",
      "The upper quartile of temperatures is: 65.52574285\n",
      "The interquartile range of temperatures is: 11.477135160000003\n",
      "The the median of temperatures is: 60.16518046 \n",
      "Values below 36.83290494999999 could be outliers.\n",
      "Values above 82.74144559000001 could be outliers.\n"
     ]
    }
   ],
   "source": [
    "# 3) Infubinol\n",
    "# Calculate the IQR and quantitatively determine if there are any potential outliers. \n",
    "inf_tumor = infubinol[\"Tumor Volume (mm3)\"]\n",
    "\n",
    "quartiles = inf_tumor.quantile([.25,.5,.75])\n",
    "lowerq = quartiles[0.25]\n",
    "upperq = quartiles[0.75]\n",
    "iqr = upperq-lowerq\n",
    "\n",
    "print(\"Infubinol\")\n",
    "print(\"-\" * 20)\n",
    "print(f\"The lower quartile of temperatures is: {lowerq}\")\n",
    "print(f\"The upper quartile of temperatures is: {upperq}\")\n",
    "print(f\"The interquartile range of temperatures is: {iqr}\")\n",
    "print(f\"The the median of temperatures is: {quartiles[0.5]} \")\n",
    "\n",
    "lower_bound = lowerq - (1.5*iqr)\n",
    "upper_bound = upperq + (1.5*iqr)\n",
    "print(f\"Values below {lower_bound} could be outliers.\")\n",
    "print(f\"Values above {upper_bound} could be outliers.\")"
   ]
  },
  {
   "cell_type": "code",
   "execution_count": 115,
   "metadata": {},
   "outputs": [
    {
     "name": "stdout",
     "output_type": "stream",
     "text": [
      "Ceftamin\n",
      "--------------------\n",
      "The lower quartile of temperatures is: 48.72207785\n",
      "The upper quartile of temperatures is: 64.29983003\n",
      "The interquartile range of temperatures is: 15.577752179999997\n",
      "The the median of temperatures is: 59.85195552 \n",
      "Values below 25.355449580000002 could be outliers.\n",
      "Values above 87.66645829999999 could be outliers.\n"
     ]
    }
   ],
   "source": [
    "# 4) Ceftamin\n",
    "# Calculate the IQR and quantitatively determine if there are any potential outliers. \n",
    "cef_tumor = ceftamin[\"Tumor Volume (mm3)\"]\n",
    "\n",
    "quartiles = cef_tumor.quantile([.25,.5,.75])\n",
    "lowerq = quartiles[0.25]\n",
    "upperq = quartiles[0.75]\n",
    "iqr = upperq-lowerq\n",
    "\n",
    "print(\"Ceftamin\")\n",
    "print(\"-\" * 20)\n",
    "print(f\"The lower quartile of temperatures is: {lowerq}\")\n",
    "print(f\"The upper quartile of temperatures is: {upperq}\")\n",
    "print(f\"The interquartile range of temperatures is: {iqr}\")\n",
    "print(f\"The the median of temperatures is: {quartiles[0.5]} \")\n",
    "\n",
    "lower_bound = lowerq - (1.5*iqr)\n",
    "upper_bound = upperq + (1.5*iqr)\n",
    "print(f\"Values below {lower_bound} could be outliers.\")\n",
    "print(f\"Values above {upper_bound} could be outliers.\")"
   ]
  },
  {
   "cell_type": "code",
   "execution_count": 116,
   "metadata": {},
   "outputs": [
    {
     "data": {
      "text/plain": [
       "Text(0, 0.5, 'Final Tumor Volume (mm3)')"
      ]
     },
     "execution_count": 116,
     "metadata": {},
     "output_type": "execute_result"
    },
    {
     "data": {
      "image/png": "[encoded data removed]",
      "text/plain": [
       "<Figure size 720x432 with 1 Axes>"
      ]
     },
     "metadata": {
      "needs_background": "light"
     },
     "output_type": "display_data"
    }
   ],
   "source": [
    "# Generate a box plot of the final tumor volume of each mouse across four regimens of interest\n",
    "boxplot_tumor = [cap_tumor, ram_tumor, inf_tumor, cef_tumor]\n",
    "treatment_list = [\"Capomulin\", \"Ramicane\", \"Infubinol\", \"Ceftamin\"]\n",
    "\n",
    "fig1, ax1 = plt.subplots(figsize= (10,6))\n",
    "ax1.boxplot(boxplot_tumor, labels= treatment_list)\n",
    "ax1.set_title('Final Tumor Volume of Each Mouse Across Four Regimens')\n",
    "ax1.set_ylabel(\"Final Tumor Volume (mm3)\")"
   ]
  },
  {
   "cell_type": "code",
   "execution_count": 117,
   "metadata": {},
   "outputs": [
    {
     "data": {
      "text/plain": [
       "Text(0, 0.5, 'Tumor Volume (mm3)')"
      ]
     },
     "execution_count": 117,
     "metadata": {},
     "output_type": "execute_result"
    },
    {
     "data": {
      "image/png": "[encoded data removed]",
      "text/plain": [
       "<Figure size 432x288 with 1 Axes>"
      ]
     },
     "metadata": {
      "needs_background": "light"
     },
     "output_type": "display_data"
    }
   ],
   "source": [
    "# Generate a line plot of time point versus tumor volume for a mouse treated with Capomulin\n",
    "lineplot_tptv = clean_df.loc[clean_df[\"Mouse ID\"] == \"b742\",:]\n",
    "x_axis = lineplot_tptv[\"Timepoint\"]\n",
    "y_axis = lineplot_tptv[\"Tumor Volume (mm3)\"]\n",
    "plt.plot(x_axis, y_axis, color=\"blue\", marker= 'o', alpha= 0.5)\n",
    "plt.title(\"Mouse b742 treated with Capomulin\")\n",
    "plt.xlabel(\"Timepoint\")\n",
    "plt.ylabel(\"Tumor Volume (mm3)\")"
   ]
  },
  {
   "cell_type": "code",
   "execution_count": 118,
   "metadata": {},
   "outputs": [
    {
     "data": {
      "text/plain": [
       "Text(0.5, 1.0, 'Mouse Weight vs. Average Tumor Volume for Capomulin Regimen')"
      ]
     },
     "execution_count": 118,
     "metadata": {},
     "output_type": "execute_result"
    },
    {
     "data": {
      "image/png": "[encoded data removed]",
      "text/plain": [
       "<Figure size 432x288 with 1 Axes>"
      ]
     },
     "metadata": {
      "needs_background": "light"
     },
     "output_type": "display_data"
    }
   ],
   "source": [
    "# Generate a scatter plot of mouse weight versus average tumor volume for the Capomulin regimen\n",
    "mouse_weight = capomulin[\"Weight (g)\"]\n",
    "avg_tv = capomulin[\"Tumor Volume (mm3)\"]\n",
    "plt.scatter(mouse_weight, avg_tv, color=\"blue\", alpha=0.5, s=120)\n",
    "plt.xlabel(\"Mouse Weight (g)\")\n",
    "plt.ylabel(\"Tumor Volume (mm3)\")\n",
    "plt.title(\"Mouse Weight vs. Average Tumor Volume for Capomulin Regimen\")"
   ]
  },
  {
   "cell_type": "code",
   "execution_count": 121,
   "metadata": {},
   "outputs": [
    {
     "name": "stdout",
     "output_type": "stream",
     "text": [
      "The correlation coefficient between mouse weight and average tumor volume for the Capomulin Regimen is 0.88\n"
     ]
    }
   ],
   "source": [
    "# Calculate the correlation coefficient for mouse weight and average tumor volume for the Capomulin regimen\n",
    "correlation = st.pearsonr(mouse_weight, avg_tv)\n",
    "print(f\"The correlation coefficient between mouse weight and average tumor volume for the Capomulin Regimen is {round(correlation[0],2)}\")"
   ]
  },
  {
   "cell_type": "code",
   "execution_count": 91,
   "metadata": {},
   "outputs": [
    {
     "name": "stdout",
     "output_type": "stream",
     "text": [
      "The r-squared is: 0.7686134812139006\n",
      "The linear regression equation is: y = 1.75x + 1.45\n"
     ]
    },
    {
     "data": {
      "image/png": "[encoded data removed]",
      "text/plain": [
       "<Figure size 576x396 with 1 Axes>"
      ]
     },
     "metadata": {
      "needs_background": "light"
     },
     "output_type": "display_data"
    }
   ],
   "source": [
    "# Calculate the linear regression model for mouse weight and average tumor volume for the Capomulin regimen\n",
    "fig, ax = plt.subplots(figsize=(8, 5.5))\n",
    "(slope, intercept, rvalue, pvalue, stderr) = linregress(mouse_weight, avg_tv)\n",
    "regress_values = mouse_weight * slope + intercept\n",
    "line_eq = \"y = \" + str(round(slope,2)) + \"x + \" + str(round(intercept,2))\n",
    "plt.scatter(mouse_weight, avg_tv, color=\"blue\", alpha=0.5, s=120)\n",
    "plt.plot(mouse_weight,regress_values, color= \"red\")\n",
    "plt.annotate(line_eq, xy=(10,10),fontsize=15,color=\"green\")\n",
    "plt.title(\"Mouse Weight vs. Average Tumor Volume for Capomulin Regimen\")\n",
    "plt.xlabel(\"Mouse Weight (g)\")\n",
    "plt.ylabel(\"Tumor Volume (mm3)\")\n",
    "print(f\"The r-squared is: {rvalue**2}\")\n",
    "print(f\"The linear regression equation is: {line_eq}\")\n",
    "plt.show()"
   ]
  },
  {
   "cell_type": "code",
   "execution_count": null,
   "metadata": {},
   "outputs": [],
   "source": []
  }
 ],
 "metadata": {
  "kernelspec": {
   "display_name": "Python 3",
   "language": "python",
   "name": "python3"
  },
  "language_info": {
   "codemirror_mode": {
    "name": "ipython",
    "version": 3
   },
   "file_extension": ".py",
   "mimetype": "text/x-python",
   "name": "python",
   "nbconvert_exporter": "python",
   "pygments_lexer": "ipython3",
   "version": "3.7.6"
  }
 },
 "nbformat": 4,
 "nbformat_minor": 4
}
